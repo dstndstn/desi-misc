{
 "cells": [
  {
   "cell_type": "code",
   "execution_count": null,
   "metadata": {},
   "outputs": [],
   "source": [
    "%matplotlib inline\n",
    "import pylab as plt\n",
    "from astrometry.util.fits import fits_table\n",
    "from astrometry.util.util import Tan\n",
    "from astrometry.util.starutil_numpy import degrees_between\n",
    "import fitsio\n",
    "import numpy as np\n",
    "import os\n",
    "from collections import Counter\n",
    "from desimodel.io import load_focalplane"
   ]
  },
  {
   "cell_type": "code",
   "execution_count": null,
   "metadata": {},
   "outputs": [],
   "source": [
    "(fp, excl, pos, time) = load_focalplane()"
   ]
  },
  {
   "cell_type": "code",
   "execution_count": null,
   "metadata": {},
   "outputs": [],
   "source": [
    "time"
   ]
  },
  {
   "cell_type": "code",
   "execution_count": null,
   "metadata": {},
   "outputs": [],
   "source": [
    "pos[:10]"
   ]
  },
  {
   "cell_type": "code",
   "execution_count": null,
   "metadata": {},
   "outputs": [],
   "source": [
    "state = pos['STATE'].data\n",
    "#excl = pos['EXCLUSION'].data\n",
    "loc = pos['LOCATION'].data"
   ]
  },
  {
   "cell_type": "code",
   "execution_count": null,
   "metadata": {},
   "outputs": [],
   "source": [
    "Counter(state)"
   ]
  },
  {
   "cell_type": "code",
   "execution_count": null,
   "metadata": {},
   "outputs": [],
   "source": [
    "for i in range(32):\n",
    "    bitval = 1<<i\n",
    "    if np.any(state & bitval > 0):\n",
    "        print('bit', i+1, '(0x%x)'%bitval, 'set for', np.sum(state & bitval > 0), 'positioners')"
   ]
  },
  {
   "cell_type": "code",
   "execution_count": null,
   "metadata": {},
   "outputs": [],
   "source": [
    "np.sum((state & 0x2) > 0)"
   ]
  },
  {
   "cell_type": "code",
   "execution_count": null,
   "metadata": {},
   "outputs": [],
   "source": [
    "np.sum((state & 0x4) > 0)"
   ]
  },
  {
   "cell_type": "code",
   "execution_count": null,
   "metadata": {},
   "outputs": [],
   "source": [
    "np.sum((state & 0x6) > 0)"
   ]
  },
  {
   "cell_type": "code",
   "execution_count": null,
   "metadata": {},
   "outputs": [],
   "source": [
    "sum(state != 0)"
   ]
  },
  {
   "cell_type": "code",
   "execution_count": null,
   "metadata": {},
   "outputs": [],
   "source": [
    "Ibad = np.flatnonzero(state)"
   ]
  },
  {
   "cell_type": "code",
   "execution_count": null,
   "metadata": {},
   "outputs": [],
   "source": [
    "pos[Ibad]"
   ]
  },
  {
   "cell_type": "code",
   "execution_count": null,
   "metadata": {},
   "outputs": [],
   "source": [
    "bad_loc = loc[Ibad]"
   ]
  },
  {
   "cell_type": "code",
   "execution_count": null,
   "metadata": {},
   "outputs": [],
   "source": []
  },
  {
   "cell_type": "code",
   "execution_count": null,
   "metadata": {},
   "outputs": [],
   "source": [
    "os.environ['DESI_SPECTRO_DATA']"
   ]
  },
  {
   "cell_type": "code",
   "execution_count": null,
   "metadata": {},
   "outputs": [],
   "source": []
  },
  {
   "cell_type": "code",
   "execution_count": null,
   "metadata": {},
   "outputs": [],
   "source": []
  },
  {
   "cell_type": "code",
   "execution_count": null,
   "metadata": {},
   "outputs": [],
   "source": []
  },
  {
   "cell_type": "code",
   "execution_count": null,
   "metadata": {},
   "outputs": [],
   "source": [
    "fn1 = 'desi/spectro/data/20210405/00083539/coordinates-00083539.fits'\n",
    "T = fits_table(fn1)\n",
    "hdr1 = fitsio.read_header(fn1)\n",
    "tilera1, tiledec1 = hdr1['TILERA'], hdr1['TILEDEC']\n",
    "fieldrot1 = hdr1['FIELDROT']"
   ]
  },
  {
   "cell_type": "code",
   "execution_count": null,
   "metadata": {},
   "outputs": [],
   "source": [
    "plt.figure(figsize=(10,10))\n",
    "plt.plot(T.target_ra, T.target_dec, 'b.');\n",
    "ax = plt.axis()\n",
    "plt.plot(T.fiber_ra, T.fiber_dec, 'r.')\n",
    "plt.axis(ax);"
   ]
  },
  {
   "cell_type": "code",
   "execution_count": null,
   "metadata": {},
   "outputs": [],
   "source": [
    "plt.figure(figsize=(10,10))\n",
    "plt.quiver(T.target_ra, T.target_dec, T.fiber_ra-T.target_ra, T.fiber_dec-T.target_dec);\n"
   ]
  },
  {
   "cell_type": "code",
   "execution_count": null,
   "metadata": {},
   "outputs": [],
   "source": [
    "D = np.array([degrees_between(r1,d1,r2,d2) for r1,d1,r2,d2 in zip(T.target_ra, T.target_dec, T.fiber_ra, T.fiber_dec)])\n",
    "plt.scatter(T.target_ra, T.target_dec, c=D, s=5, vmin=0, vmax=0.001)\n",
    "plt.colorbar();"
   ]
  },
  {
   "cell_type": "code",
   "execution_count": null,
   "metadata": {},
   "outputs": [],
   "source": [
    "plt.hist(D*3600, log=True, bins=50, range=(0,5));"
   ]
  },
  {
   "cell_type": "code",
   "execution_count": null,
   "metadata": {},
   "outputs": [],
   "source": [
    "Ibad = np.flatnonzero((D*3600.)>1)"
   ]
  },
  {
   "cell_type": "code",
   "execution_count": null,
   "metadata": {},
   "outputs": [],
   "source": [
    "len(Ibad)"
   ]
  },
  {
   "cell_type": "code",
   "execution_count": null,
   "metadata": {},
   "outputs": [],
   "source": [
    "plt.figure(figsize=(8,8))\n",
    "plt.plot(T.target_ra, T.target_dec, 'k.', alpha=0.1)\n",
    "plt.plot(T.target_ra[Ibad], T.target_dec[Ibad], 'r.')\n",
    "ax = plt.axis()\n",
    "plt.axis([ax[1],ax[0], ax[2],ax[3]]);"
   ]
  },
  {
   "cell_type": "code",
   "execution_count": null,
   "metadata": {},
   "outputs": [],
   "source": [
    "T.about()"
   ]
  },
  {
   "cell_type": "code",
   "execution_count": null,
   "metadata": {},
   "outputs": [],
   "source": [
    "plt.plot(T.fiber_x[Ibad], T.fiber_y[Ibad], 'k.')\n",
    "plt.axis('equal');"
   ]
  },
  {
   "cell_type": "code",
   "execution_count": null,
   "metadata": {},
   "outputs": [],
   "source": [
    "fn2 = 'desi/spectro/data/20210405/00083537/coordinates-00083537.fits'\n",
    "T2 = fits_table(fn2)\n",
    "hdr2 = fitsio.read_header(fn2)\n",
    "tilera2,tiledec2 = hdr2['TILERA'], hdr2['TILEDEC']\n",
    "fieldrot2 = hdr2['FIELDROT']"
   ]
  },
  {
   "cell_type": "code",
   "execution_count": null,
   "metadata": {},
   "outputs": [],
   "source": [
    "T.fid = T.petal_loc*1000 + T.device_loc\n",
    "T2.fid = T2.petal_loc*1000 + T2.device_loc"
   ]
  },
  {
   "cell_type": "code",
   "execution_count": null,
   "metadata": {},
   "outputs": [],
   "source": [
    "np.all(T.fid == T2.fid)"
   ]
  },
  {
   "cell_type": "code",
   "execution_count": null,
   "metadata": {},
   "outputs": [],
   "source": [
    "plt.figure(figsize=(10,10))\n",
    "plt.quiver(T2.fiber_x, T2.fiber_y, T2.fiber_x-T.fiber_x, T2.fiber_y-T2.fiber_y);\n",
    "dxy = np.hypot(T2.fiber_x-T.fiber_x, T2.fiber_y-T2.fiber_y)"
   ]
  },
  {
   "cell_type": "code",
   "execution_count": null,
   "metadata": {},
   "outputs": [],
   "source": [
    "plt.hist(dxy, log=True, range=(0,0.1), bins=50);"
   ]
  },
  {
   "cell_type": "code",
   "execution_count": null,
   "metadata": {},
   "outputs": [],
   "source": [
    "Ibad2 = np.flatnonzero(dxy < 0.1)"
   ]
  },
  {
   "cell_type": "code",
   "execution_count": null,
   "metadata": {},
   "outputs": [],
   "source": [
    "len(Ibad2)"
   ]
  },
  {
   "cell_type": "code",
   "execution_count": null,
   "metadata": {},
   "outputs": [],
   "source": [
    "plt.figure(figsize=(10,10))\n",
    "plt.plot(T2.fiber_x, T2.fiber_y, 'k.', alpha=0.1)\n",
    "plt.plot(T2.fiber_x[Ibad2], T2.fiber_y[Ibad2], 'r.');"
   ]
  },
  {
   "cell_type": "code",
   "execution_count": null,
   "metadata": {},
   "outputs": [],
   "source": [
    "### Check whether going fiber_{ra,dec} -> fake WCS x,y -> fiber_{ra,dec} works (at different Decs/airmasses)\n",
    "# (for the bad fibers only)"
   ]
  },
  {
   "cell_type": "code",
   "execution_count": null,
   "metadata": {},
   "outputs": [],
   "source": [
    "def rotate_by(x, y, fieldrot):\n",
    "    c,s = np.cos(np.deg2rad(fieldrot)), np.sin(np.deg2rad(fieldrot))\n",
    "    R = np.array([[c, -s], [s, c]])\n",
    "    rx,ry = np.dot(R, np.vstack((x,y)))\n",
    "    return rx,ry"
   ]
  },
  {
   "cell_type": "code",
   "execution_count": null,
   "metadata": {},
   "outputs": [],
   "source": [
    "cd = 1./3600.\n",
    "fakewcs1 = Tan(tilera1, tiledec1, 0., 0., -cd, 0., 0., cd, 12000., 12000.)\n",
    "ok,x1,y1 = fakewcs1.radec2pixelxy(T.fiber_ra, T.fiber_dec)\n",
    "Igood = np.flatnonzero(T.fiber_x)\n",
    "rx1,ry1 = rotate_by(x1, y1, +fieldrot1)\n",
    "x1,y1 = rx1,ry1\n",
    "Counter(ok)"
   ]
  },
  {
   "cell_type": "code",
   "execution_count": null,
   "metadata": {},
   "outputs": [],
   "source": [
    "fakewcs2 = Tan(tilera2, tiledec2, 0., 0., -cd, 0., 0., cd, 12000., 12000.)"
   ]
  },
  {
   "cell_type": "code",
   "execution_count": null,
   "metadata": {},
   "outputs": [],
   "source": [
    "x2,y2 = rotate_by(x1,y1, -fieldrot2)\n",
    "rr,dd = fakewcs2.pixelxy2radec(x2, y2)"
   ]
  },
  {
   "cell_type": "code",
   "execution_count": null,
   "metadata": {},
   "outputs": [],
   "source": [
    "D = np.array([degrees_between(r1,d1,r2,d2) for r1,d1,r2,d2 in zip(rr, dd, T2.fiber_ra, T2.fiber_dec)])\n",
    "plt.hist(3600.*D[Igood], log=True, range=(0, 10), bins=25);"
   ]
  },
  {
   "cell_type": "code",
   "execution_count": null,
   "metadata": {},
   "outputs": [],
   "source": [
    "plt.figure(figsize=(8,8))\n",
    "Istuck = Igood[(D[Igood] < 2./3600.)]\n",
    "plt.quiver(rr[Istuck], dd[Istuck], (rr - T2.fiber_ra)[Istuck], (dd - T2.fiber_dec)[Istuck]);\n",
    "plt.axis('equal')"
   ]
  },
  {
   "cell_type": "code",
   "execution_count": null,
   "metadata": {},
   "outputs": [],
   "source": [
    "from glob import glob\n",
    "from functools import reduce"
   ]
  },
  {
   "cell_type": "code",
   "execution_count": null,
   "metadata": {},
   "outputs": [],
   "source": [
    "len(bad_loc)"
   ]
  },
  {
   "cell_type": "code",
   "execution_count": null,
   "metadata": {},
   "outputs": [],
   "source": [
    "fns = glob('desi/spectro/data/20210405/*/coordinates-*.fits')\n",
    "results = []\n",
    "loc = 1000 * T.petal_loc + T.device_loc\n",
    "is_stuck = np.isin(loc, bad_loc)\n",
    "for fn3 in fns:\n",
    "    try:\n",
    "        T3 = fits_table(fn3)\n",
    "        hdr3 = fitsio.read_header(fn3)\n",
    "        tilera3,tiledec3 = hdr3['TILERA'], hdr3['TILEDEC']\n",
    "        fieldrot3 = hdr3['FIELDROT']\n",
    "        T3.fiber_ra\n",
    "    except:\n",
    "        continue\n",
    "    #T.petal_loc*1000 + T.device_loc\n",
    "    # Drop \"stuck\" ones that are missing data in this frame.\n",
    "    Istuck = is_stuck * (T3.fiber_x != 0.) * np.isfinite(T3.fiber_ra)\n",
    "    \n",
    "    fakewcs3 = Tan(tilera3, tiledec3, 0., 0., -cd, 0., 0., cd, 12000., 12000.)\n",
    "    x3,y3 = rotate_by(x1,y1, -fieldrot3)\n",
    "    rr,dd = fakewcs3.pixelxy2radec(x3, y3)\n",
    "    D = np.array([degrees_between(r1,d1,r2,d2) for r1,d1,r2,d2 in zip(rr, dd, T3.fiber_ra, T3.fiber_dec)])\n",
    "    results.append((rr, dd, T3.fiber_ra, T3.fiber_dec, (T3.fiber_x != 0.) * np.isfinite(T3.fiber_ra), 3600.*D))\n"
   ]
  },
  {
   "cell_type": "code",
   "execution_count": null,
   "metadata": {},
   "outputs": [],
   "source": [
    "np.sum(is_stuck)"
   ]
  },
  {
   "cell_type": "code",
   "execution_count": null,
   "metadata": {},
   "outputs": [],
   "source": [
    "allD = np.vstack([r[5] for r in results]).T\n",
    "is_stuck = (np.mean(allD, axis=1) < 1)\n",
    "plt.hist(np.mean(allD, axis=1), log=True, range=(0,10), bins=20);\n",
    "np.sum(is_stuck)"
   ]
  },
  {
   "cell_type": "code",
   "execution_count": null,
   "metadata": {},
   "outputs": [],
   "source": [
    "for (rr, dd, fiber_ra, fiber_dec, ok, D) in results:\n",
    "    plt.figure(figsize=(12,6))\n",
    "    plt.subplot(1,2,1)\n",
    "    plt.hist(D[ok * is_stuck], log=True, bins=20, range=(0,5));\n",
    "    plt.subplot(1,2,2)\n",
    "    show = ok * is_stuck\n",
    "    plt.quiver(rr[show], dd[show], (rr - fiber_ra)[show], (dd - fiber_dec)[show]);\n",
    "    #plt.axis('equal')\n",
    "    plt.show()\n",
    "    break"
   ]
  },
  {
   "cell_type": "code",
   "execution_count": null,
   "metadata": {},
   "outputs": [],
   "source": []
  },
  {
   "cell_type": "code",
   "execution_count": null,
   "metadata": {},
   "outputs": [],
   "source": [
    "from desimodel.focalplane.fieldrot import field_rotation_angle\n",
    "import astropy.time"
   ]
  },
  {
   "cell_type": "code",
   "execution_count": null,
   "metadata": {},
   "outputs": [],
   "source": [
    "obsdate = astropy.time.Time('2022-07-01')\n",
    "mjd = obsdate.mjd"
   ]
  },
  {
   "cell_type": "code",
   "execution_count": null,
   "metadata": {},
   "outputs": [],
   "source": [
    "tilera1, tiledec1"
   ]
  },
  {
   "cell_type": "code",
   "execution_count": null,
   "metadata": {},
   "outputs": [],
   "source": [
    "field_rotation_angle(tilera1, tiledec1, mjd)"
   ]
  },
  {
   "cell_type": "code",
   "execution_count": null,
   "metadata": {},
   "outputs": [],
   "source": [
    "fieldrot1"
   ]
  },
  {
   "cell_type": "code",
   "execution_count": null,
   "metadata": {},
   "outputs": [],
   "source": [
    "tiles = fits_table('/global/cfs/cdirs/desi/users/djschleg/tiling/tiles-sv3-rosette.fits')"
   ]
  },
  {
   "cell_type": "code",
   "execution_count": null,
   "metadata": {},
   "outputs": [],
   "source": [
    "tiles.about()"
   ]
  },
  {
   "cell_type": "code",
   "execution_count": null,
   "metadata": {},
   "outputs": [],
   "source": [
    "tiles.fieldrot = np.array([field_rotation_angle(ra, dec, mjd) for ra,dec in zip(tiles.ra, tiles.dec)])"
   ]
  },
  {
   "cell_type": "code",
   "execution_count": null,
   "metadata": {},
   "outputs": [],
   "source": [
    "plt.hist(tiles.fieldrot);"
   ]
  },
  {
   "cell_type": "code",
   "execution_count": null,
   "metadata": {},
   "outputs": [],
   "source": [
    "from astrometry.libkd.spherematch import tree_build_radec, tree_search_radec, tree_open"
   ]
  },
  {
   "cell_type": "code",
   "execution_count": null,
   "metadata": {},
   "outputs": [],
   "source": [
    "skybrick_dir = '/global/cscratch1/sd/dstn/skybricks'\n",
    "skytiles = fits_table(os.path.join(skybrick_dir, 'skybricks-exist.fits'))\n",
    "skytiles_kd = tree_build_radec(ra=skytiles.ra, dec=skytiles.dec)"
   ]
  },
  {
   "cell_type": "code",
   "execution_count": null,
   "metadata": {},
   "outputs": [],
   "source": [
    "skytiles_kd_fn = 'skytiles-kd.fits'\n",
    "skytiles_kd.write(skytiles_kd_fn)"
   ]
  },
  {
   "cell_type": "code",
   "execution_count": null,
   "metadata": {},
   "outputs": [],
   "source": [
    "def one_tile(X):\n",
    "    tile, itile, x_stuck, y_stuck, skytiles, skytiles_kd_fn, skybrick_dir = X\n",
    "    #print('Tile', itile)\n",
    "    # ugh\n",
    "    #skytiles_kd = tree_build_radec(ra=skytiles.ra, dec=skytiles.dec)\n",
    "    skytiles_kd = tree_open(skytiles_kd_fn)\n",
    "    fakewcs = Tan(tile.ra, tile.dec, 0., 0., -cd, 0., 0., cd, 12000., 12000.)\n",
    "    x,y = rotate_by(x_stuck, y_stuck, -tile.fieldrot)\n",
    "    rr,dd = fakewcs.pixelxy2radec(x, y)\n",
    "\n",
    "    skyvals = np.empty(len(rr), np.int16)\n",
    "    skyvals[:] = -1\n",
    "    skyvals_margin = np.empty(len(rr), np.float32)\n",
    "    skyvals_margin[:] = -1.\n",
    "\n",
    "    margin = 2\n",
    "    \n",
    "    I = tree_search_radec(skytiles_kd, tile.ra, tile.dec, 2.5)\n",
    "    for i in I:\n",
    "        keep = np.flatnonzero(# unique skybrick area\n",
    "                              (rr >= skytiles.ra1[i]) * (rr < skytiles.ra2[i]) *\n",
    "                              (dd >= skytiles.dec1[i]) * (dd < skytiles.dec2[i]))\n",
    "        if len(keep) == 0:\n",
    "            continue\n",
    "\n",
    "        sky,hdr = fitsio.read(os.path.join(skybrick_dir, 'sky-%s.fits.gz' % skytiles.brickname[i]), header=True)\n",
    "        skywcs = Tan(hdr)\n",
    "        h,w = sky.shape\n",
    "        ok,xx,yy = skywcs.radec2pixelxy(rr, dd)\n",
    "        xx -= 1.\n",
    "        yy -= 1.\n",
    "        ix = np.round(xx).astype(np.int32)\n",
    "        iy = np.round(yy).astype(np.int32)\n",
    "        keep = np.flatnonzero((ix >= 0) * (ix < w) * (iy >=0) * (iy < h) * \n",
    "                              # unique skybrick area\n",
    "                              (rr >= skytiles.ra1[i]) * (rr < skytiles.ra2[i]) *\n",
    "                              (dd >= skytiles.dec1[i]) * (dd < skytiles.dec2[i]))\n",
    "        if len(keep) == 0:\n",
    "            continue\n",
    "        skyvals[keep] = sky[iy[keep], ix[keep]]\n",
    "\n",
    "        for k in zip(keep):\n",
    "            xlo,xhi = np.maximum(ix[k] - margin, 0), np.minimum(ix[k] + margin + 1, w)\n",
    "            ylo,yhi = np.maximum(iy[k] - margin, 0), np.minimum(iy[k] + margin + 1, h)\n",
    "            xg,yg = np.meshgrid(np.arange(xlo,xhi), np.arange(ylo,yhi))\n",
    "            inrad = np.hypot(xx[k] - xg, yy[k] - yg) <= margin\n",
    "            skyvals_margin[k] = np.mean(sky[ylo:yhi, xlo:xhi][inrad])\n",
    "    return skyvals, skyvals_margin"
   ]
  },
  {
   "cell_type": "code",
   "execution_count": null,
   "metadata": {},
   "outputs": [],
   "source": [
    "from astrometry.util.multiproc import multiproc"
   ]
  },
  {
   "cell_type": "code",
   "execution_count": null,
   "metadata": {},
   "outputs": [],
   "source": [
    "x_stuck = x1[is_stuck]\n",
    "y_stuck = y1[is_stuck]\n",
    "\n",
    "tiles.stuck_skyvals = np.empty((len(tiles), len(x_stuck)), np.int16)\n",
    "tiles.stuck_skyvals[:,:] = -1\n",
    "tiles.stuck_skyvals_margin = np.empty((len(tiles), len(x_stuck)), np.float32)\n",
    "tiles.stuck_skyvals_margin[:,:] = -1\n",
    "\n",
    "mp = multiproc(8)\n",
    "R = mp.map(one_tile, [(tile, itile, x_stuck, y_stuck, skytiles, skytiles_kd_fn, skybrick_dir) for itile,tile in enumerate(tiles)])\n",
    "\n",
    "for i,(s,sm) in enumerate(R):\n",
    "    tiles.stuck_skyvals[i,:] = s\n",
    "    tiles.stuck_skyvals_margin[i,:] = sm\n"
   ]
  },
  {
   "cell_type": "code",
   "execution_count": null,
   "metadata": {},
   "outputs": [],
   "source": [
    "tiles.writeto('tiles-sv3-stuck-sky.fits')"
   ]
  },
  {
   "cell_type": "code",
   "execution_count": null,
   "metadata": {},
   "outputs": [],
   "source": [
    "tiles.stuck_skyvals.shape"
   ]
  },
  {
   "cell_type": "code",
   "execution_count": null,
   "metadata": {},
   "outputs": [],
   "source": [
    "len(tiles), len(x_stuck)"
   ]
  },
  {
   "cell_type": "code",
   "execution_count": null,
   "metadata": {},
   "outputs": [],
   "source": [
    "tiles.n_stuck_on_sky = np.sum(tiles.stuck_skyvals == 0, axis=1)\n",
    "tiles.n_stuck_on_sky_margin = np.sum(tiles.stuck_skyvals_margin == 0, axis=1)"
   ]
  },
  {
   "cell_type": "code",
   "execution_count": null,
   "metadata": {},
   "outputs": [],
   "source": [
    "plt.figure(figsize=(10,8))\n",
    "plt.hist(tiles.n_stuck_on_sky / len(x_stuck), label='Nearest pixel');\n",
    "plt.hist(tiles.n_stuck_on_sky_margin / len(x_stuck), histtype='step', lw=3, label='2\" margin');\n",
    "plt.xlabel('Fraction of stuck positioners that land on good sky')\n",
    "plt.legend()\n",
    "plt.ylabel('Number of tiles')\n",
    "plt.title('SV3 rosettes: fraction of stuck positioners usable as sky fibers');\n",
    "plt.savefig('sv3-sky.png')"
   ]
  },
  {
   "cell_type": "code",
   "execution_count": null,
   "metadata": {},
   "outputs": [],
   "source": []
  },
  {
   "cell_type": "code",
   "execution_count": null,
   "metadata": {},
   "outputs": [],
   "source": []
  },
  {
   "cell_type": "code",
   "execution_count": null,
   "metadata": {},
   "outputs": [],
   "source": []
  },
  {
   "cell_type": "code",
   "execution_count": null,
   "metadata": {},
   "outputs": [],
   "source": [
    "x_stuck = x1[is_stuck]\n",
    "y_stuck = y1[is_stuck]\n",
    "\n",
    "tiles.stuck_skyvals = np.empty((len(tiles), len(x_stuck)), np.int16)\n",
    "tiles.stuck_skyvals[:,:] = -1\n",
    "tiles.stuck_skyvals_margin = np.empty((len(tiles), len(x_stuck)), np.float32)\n",
    "tiles.stuck_skyvals_margin[:,:] = -1\n",
    "\n",
    "for itile,tile in enumerate(tiles):\n",
    "    print('tile', itile, 'of', len(tiles))\n",
    "    fakewcs = Tan(tile.ra, tile.dec, 0., 0., -cd, 0., 0., cd, 12000., 12000.)\n",
    "    x,y = rotate_by(x_stuck, y_stuck, -tile.fieldrot)\n",
    "    rr,dd = fakewcs.pixelxy2radec(x, y)\n",
    "\n",
    "    skyvals = np.empty(len(rr), np.int16)\n",
    "    skyvals[:] = -1\n",
    "    skyvals_margin = np.empty(len(rr), np.float32)\n",
    "    skyvals_margin[:] = -1.\n",
    "\n",
    "    margin = 2\n",
    "    \n",
    "    I = tree_search_radec(skytiles_kd, tile.ra, tile.dec, 2.5)\n",
    "    for i in I:\n",
    "        sky,hdr = fitsio.read(os.path.join(skybrick_dir, 'sky-%s.fits.gz' % skytiles.brickname[i]), header=True)\n",
    "        skywcs = Tan(hdr)\n",
    "        h,w = sky.shape\n",
    "        ok,xx,yy = skywcs.radec2pixelxy(rr, dd)\n",
    "        xx -= 1.\n",
    "        yy -= 1.\n",
    "        ix = np.round(xx).astype(np.int32)\n",
    "        iy = np.round(yy).astype(np.int32)\n",
    "        keep = np.flatnonzero((ix >= 0) * (ix < w) * (iy >=0) * (iy < h) * \n",
    "                              # unique skybrick area\n",
    "                              (rr >= skytiles.ra1[i]) * (rr < skytiles.ra2[i]) *\n",
    "                              (dd >= skytiles.dec1[i]) * (dd < skytiles.dec2[i]))\n",
    "        if len(keep) == 0:\n",
    "            continue\n",
    "        skyvals[keep] = sky[iy[keep], ix[keep]]\n",
    "\n",
    "        for k in zip(keep):\n",
    "            xlo,xhi = np.maximum(ix[k] - margin, 0), np.minimum(ix[k] + margin + 1, w)\n",
    "            ylo,yhi = np.maximum(iy[k] - margin, 0), np.minimum(iy[k] + margin + 1, h)\n",
    "            xg,yg = np.meshgrid(np.arange(xlo,xhi), np.arange(ylo,yhi))\n",
    "            inrad = np.hypot(xx[k] - xg, yy[k] - yg) <= margin\n",
    "            skyvals_margin[k] = np.mean(sky[ylo:yhi, xlo:xhi][inrad])\n",
    "\n",
    "    tiles.stuck_skyvals[itile,:] = skyvals\n",
    "    tiles.stuck_skyvals_margin[itile,:] = skyvals_margin\n",
    "    #plt.hist(skyvals, bins=17)\n",
    "    #plt.hist(skyvals_margin, bins=17, histtype='step')\n",
    "    #plt.show()\n",
    "    #break"
   ]
  },
  {
   "cell_type": "code",
   "execution_count": null,
   "metadata": {},
   "outputs": [],
   "source": [
    "np.minimum(iy[keep]+margin+1, h)"
   ]
  },
  {
   "cell_type": "code",
   "execution_count": null,
   "metadata": {},
   "outputs": [],
   "source": []
  }
 ],
 "metadata": {
  "kernelspec": {
   "display_name": "DESI master + dstn",
   "language": "python",
   "name": "desi-master+dstn"
  },
  "language_info": {
   "codemirror_mode": {
    "name": "ipython",
    "version": 3
   },
   "file_extension": ".py",
   "mimetype": "text/x-python",
   "name": "python",
   "nbconvert_exporter": "python",
   "pygments_lexer": "ipython3",
   "version": "3.8.3"
  }
 },
 "nbformat": 4,
 "nbformat_minor": 4
}
